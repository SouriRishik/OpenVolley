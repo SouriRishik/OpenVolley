{
 "cells": [
  {
   "cell_type": "code",
   "execution_count": null,
   "metadata": {},
   "outputs": [],
   "source": [
    "import cv2\n",
    "import numpy as np"
   ]
  },
  {
   "cell_type": "code",
   "execution_count": null,
   "metadata": {},
   "outputs": [],
   "source": [
    "def detect_ball(frame, ball_cascade, min_area=30):\n",
    "    gray_frame = cv2.cvtColor(frame, cv2.COLOR_BGR2GRAY)\n",
    "    \n",
    "    balls = ball_cascade.detectMultiScale(gray_frame, scaleFactor=1.1, minNeighbors=5, minSize=(30, 30), maxSize=(35, 35))\n",
    "    \n",
    "    for (x, y, w, h) in balls:\n",
    "        area = w * h\n",
    "        if area > min_area:\n",
    "            ball_center_x = x + w // 2\n",
    "            ball_center_y = y + h // 2\n",
    "            radius = max(w, h) // 2\n",
    "            cv2.circle(frame, (ball_center_x, ball_center_y), radius, (0, 255, 0), 2)\n",
    "            return ball_center_x, ball_center_y\n",
    "    \n",
    "    return None"
   ]
  },
  {
   "cell_type": "code",
   "execution_count": null,
   "metadata": {},
   "outputs": [],
   "source": [
    "def detect_players(frame, net_x):\n",
    "    gray = cv2.cvtColor(frame, cv2.COLOR_BGR2GRAY)\n",
    "    blur = cv2.GaussianBlur(gray, (5, 5), 0)\n",
    "    _, thresh = cv2.threshold(blur, 170, 180, cv2.THRESH_BINARY)\n",
    "\n",
    "    contours, _ = cv2.findContours(thresh, cv2.RETR_EXTERNAL, cv2.CHAIN_APPROX_SIMPLE)\n",
    "\n",
    "    player_counts = {\n",
    "        'Brazil': 0,\n",
    "        'Russia': 0\n",
    "    }\n",
    "\n",
    "    for contour in contours:\n",
    "        area = cv2.contourArea(contour)\n",
    "        if area > 400:\n",
    "            x, y, w, h = cv2.boundingRect(contour)\n",
    "            player_center_x = x + w // 2\n",
    "            if net_x is not None and player_center_x < net_x:\n",
    "                player_counts['Brazil'] += 1\n",
    "            elif net_x is not None:\n",
    "                player_counts['Russia'] += 1\n",
    "\n",
    "    return frame, player_counts"
   ]
  },
  {
   "cell_type": "code",
   "execution_count": null,
   "metadata": {},
   "outputs": [],
   "source": [
    "ball_cascade = cv2.CascadeClassifier(\"ball.xml\")  \n",
    "\n",
    "cap = cv2.VideoCapture(\"volleyball_match.mp4\")\n",
    "\n",
    "if not cap.isOpened():\n",
    "    print(\"Error: Couldn't open video file.\")\n",
    "    exit()\n",
    "\n",
    "net_x = None \n",
    "\n",
    "alpha = 0.1 \n",
    "\n",
    "brazil_player_count_ema = 0\n",
    "russia_player_count_ema = 0\n",
    "\n",
    "while cap.isOpened():\n",
    "    ret, frame = cap.read()\n",
    "    \n",
    "    if ret:\n",
    "        ball_center = detect_ball(frame, ball_cascade)\n",
    "        \n",
    "        if ball_center:\n",
    "            net_x = ball_center[0] \n",
    "        \n",
    "        frame, player_counts = detect_players(frame, net_x)\n",
    "\n",
    "        brazil_player_count_ema = (1 - alpha) * brazil_player_count_ema + alpha * player_counts['Brazil']\n",
    "        russia_player_count_ema = (1 - alpha) * russia_player_count_ema + alpha * player_counts['Russia']\n",
    "        \n",
    "        cv2.putText(frame, f'Brazil: {int(brazil_player_count_ema)} players', (10, 70), cv2.FONT_HERSHEY_SIMPLEX, 0.8, (0, 255, 255), 2)\n",
    "        cv2.putText(frame, f'Russia: {int(russia_player_count_ema)} players', (10, 100), cv2.FONT_HERSHEY_SIMPLEX, 0.8, (0, 0, 255), 2)\n",
    "        \n",
    "        cv2.imshow('Ball and Player Detection', frame)\n",
    "        \n",
    "        if cv2.waitKey(25) & 0xFF == ord('q'):\n",
    "            break\n",
    "    else:\n",
    "        break\n",
    "\n",
    "cap.release()\n",
    "cv2.destroyAllWindows()"
   ]
  }
 ],
 "metadata": {
  "kernelspec": {
   "display_name": "Python 3",
   "language": "python",
   "name": "python3"
  },
  "language_info": {
   "codemirror_mode": {
    "name": "ipython",
    "version": 3
   },
   "file_extension": ".py",
   "mimetype": "text/x-python",
   "name": "python",
   "nbconvert_exporter": "python",
   "pygments_lexer": "ipython3",
   "version": "3.12.0"
  }
 },
 "nbformat": 4,
 "nbformat_minor": 2
}
